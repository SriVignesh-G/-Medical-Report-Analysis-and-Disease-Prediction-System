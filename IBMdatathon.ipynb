{
 "cells": [
  {
   "cell_type": "code",
   "execution_count": 3,
   "id": "63eb3091-3147-4310-9ec9-e00edeabc28e",
   "metadata": {},
   "outputs": [],
   "source": [
    "import numpy as np\n",
    "import pandas as pd\n",
    "from sklearn import tree\n",
    "from sklearn.ensemble import RandomForestClassifier\n",
    "from sklearn.linear_model import LogisticRegression\n",
    "from sklearn.linear_model import LinearRegression\n",
    "from sklearn.metrics import accuracy_score"
   ]
  },
  {
   "cell_type": "code",
   "execution_count": 4,
   "id": "963b036a-88b1-44c0-b254-960d747b5fb1",
   "metadata": {},
   "outputs": [],
   "source": [
    "l1=['back_pain','constipation','abdominal_pain','diarrhoea','mild_fever','yellow_urine',\n",
    "'yellowing_of_eyes','acute_liver_failure','fluid_overload','swelling_of_stomach',\n",
    "'swelled_lymph_nodes','malaise','blurred_and_distorted_vision','phlegm','throat_irritation',\n",
    "'redness_of_eyes','sinus_pressure','runny_nose','congestion','chest_pain','weakness_in_limbs',\n",
    "'fast_heart_rate','pain_during_bowel_movements','pain_in_anal_region','bloody_stool',\n",
    "'irritation_in_anus','neck_pain','dizziness','cramps','bruising','obesity','swollen_legs',\n",
    "'swollen_blood_vessels','puffy_face_and_eyes','enlarged_thyroid','brittle_nails',\n",
    "'swollen_extremeties','excessive_hunger','extra_marital_contacts','drying_and_tingling_lips',\n",
    "'slurred_speech','knee_pain','hip_joint_pain','muscle_weakness','stiff_neck','swelling_joints',\n",
    "'movement_stiffness','spinning_movements','loss_of_balance','unsteadiness',\n",
    "'weakness_of_one_body_side','loss_of_smell','bladder_discomfort','foul_smell_of urine',\n",
    "'continuous_feel_of_urine','passage_of_gases','internal_itching','toxic_look_(typhos)',\n",
    "'depression','irritability','muscle_pain','altered_sensorium','red_spots_over_body','belly_pain',\n",
    "'abnormal_menstruation','dischromic _patches','watering_from_eyes','increased_appetite','polyuria','family_history','mucoid_sputum',\n",
    "'rusty_sputum','lack_of_concentration','visual_disturbances','receiving_blood_transfusion',\n",
    "'receiving_unsterile_injections','coma','stomach_bleeding','distention_of_abdomen',\n",
    "'history_of_alcohol_consumption','fluid_overload','blood_in_sputum','prominent_veins_on_calf',\n",
    "'palpitations','painful_walking','pus_filled_pimples','blackheads','scurring','skin_peeling',\n",
    "'silver_like_dusting','small_dents_in_nails','inflammatory_nails','blister','red_sore_around_nose',\n",
    "'yellow_crust_ooze']\n",
    "\n",
    "disease=['Fungal infection','Allergy','GERD','Chronic cholestasis','Drug Reaction',\n",
    "'Peptic ulcer diseae','AIDS','Diabetes','Gastroenteritis','Bronchial Asthma','Hypertension',\n",
    "' Migraine','Cervical spondylosis',\n",
    "'Paralysis (brain hemorrhage)','Jaundice','Malaria','Chicken pox','Dengue','Typhoid','hepatitis A',\n",
    "'Hepatitis B','Hepatitis C','Hepatitis D','Hepatitis E','Alcoholic hepatitis','Tuberculosis',\n",
    "'Common Cold','Pneumonia','Dimorphic hemmorhoids(piles)',\n",
    "'Heartattack','Varicoseveins','Hypothyroidism','Hyperthyroidism','Hypoglycemia','Osteoarthristis',\n",
    "'Arthritis','(vertigo) Paroymsal  Positional Vertigo','Acne','Urinary tract infection','Psoriasis',\n",
    "'Impetigo']"
   ]
  },
  {
   "cell_type": "code",
   "execution_count": 5,
   "id": "eada28a1-9fb5-432d-9e5a-665bab5261ff",
   "metadata": {},
   "outputs": [],
   "source": [
    "df = pd.read_csv(\"Training.csv\")\n",
    "df.replace({'prognosis': {\n",
    "    'Fungal infection': 0, 'Allergy': 1, 'GERD': 2, 'Chronic cholestasis': 3, 'Drug Reaction': 4,\n",
    "    'Peptic ulcer diseae': 5, 'AIDS': 6, 'Diabetes ': 7, 'Gastroenteritis': 8, 'Bronchial Asthma': 9,\n",
    "    'Hypertension ': 10, 'Migraine': 11, 'Cervical spondylosis': 12, 'Paralysis (brain hemorrhage)': 13,\n",
    "    'Jaundice': 14, 'Malaria': 15, 'Chicken pox': 16, 'Dengue': 17, 'Typhoid': 18, 'hepatitis A': 19,\n",
    "    'Hepatitis B': 20, 'Hepatitis C': 21, 'Hepatitis D': 22, 'Hepatitis E': 23, 'Alcoholic hepatitis': 24,\n",
    "    'Tuberculosis': 25, 'Common Cold': 26, 'Pneumonia': 27, 'Dimorphic hemmorhoids(piles)': 28,\n",
    "    'Heart attack': 29, 'Varicose veins': 30, 'Hypothyroidism': 31, 'Hyperthyroidism': 32,\n",
    "    'Hypoglycemia': 33, 'Osteoarthristis': 34, 'Arthritis': 35,\n",
    "    '(vertigo) Paroymsal  Positional Vertigo': 36, 'Acne': 37, 'Urinary tract infection': 38,\n",
    "    'Psoriasis': 39, 'Impetigo': 40\n",
    "}}, inplace=True)"
   ]
  },
  {
   "cell_type": "code",
   "execution_count": 6,
   "id": "676770e5-4106-43a7-b2fb-ad22b3269bba",
   "metadata": {},
   "outputs": [
    {
     "data": {
      "text/plain": [
       "array([ 0,  0,  0, ..., 38, 39, 40])"
      ]
     },
     "execution_count": 6,
     "metadata": {},
     "output_type": "execute_result"
    }
   ],
   "source": [
    "X = df[l1]\n",
    "y = df[[\"prognosis\"]]\n",
    "np.ravel(y)"
   ]
  },
  {
   "cell_type": "code",
   "execution_count": 7,
   "id": "0e687015-befa-410a-a216-d864edc68f44",
   "metadata": {},
   "outputs": [],
   "source": [
    "tr = pd.read_csv(\"Testing.csv\")\n",
    "tr.replace({'prognosis': {\n",
    "    'Fungal infection': 0, 'Allergy': 1, 'GERD': 2, 'Chronic cholestasis': 3, 'Drug Reaction': 4,\n",
    "    'Peptic ulcer diseae': 5, 'AIDS': 6, 'Diabetes ': 7, 'Gastroenteritis': 8, 'Bronchial Asthma': 9,\n",
    "    'Hypertension ': 10, 'Migraine': 11, 'Cervical spondylosis': 12, 'Paralysis (brain hemorrhage)': 13,\n",
    "    'Jaundice': 14, 'Malaria': 15, 'Chicken pox': 16, 'Dengue': 17, 'Typhoid': 18, 'hepatitis A': 19,\n",
    "    'Hepatitis B': 20, 'Hepatitis C': 21, 'Hepatitis D': 22, 'Hepatitis E': 23, 'Alcoholic hepatitis': 24,\n",
    "    'Tuberculosis': 25, 'Common Cold': 26, 'Pneumonia': 27, 'Dimorphic hemmorhoids(piles)': 28,\n",
    "    'Heart attack': 29, 'Varicose veins': 30, 'Hypothyroidism': 31, 'Hyperthyroidism': 32,\n",
    "    'Hypoglycemia': 33, 'Osteoarthristis': 34, 'Arthritis': 35,\n",
    "    '(vertigo) Paroymsal  Positional Vertigo': 36, 'Acne': 37, 'Urinary tract infection': 38,\n",
    "    'Psoriasis': 39, 'Impetigo': 40\n",
    "}}, inplace=True)"
   ]
  },
  {
   "cell_type": "code",
   "execution_count": 8,
   "id": "27f2105a-f5b2-482b-b6eb-6a8646874529",
   "metadata": {},
   "outputs": [
    {
     "data": {
      "text/plain": [
       "array([ 0,  1,  2,  3,  4,  5,  6,  7,  8,  9, 10, 11, 12, 13, 14, 15, 16,\n",
       "       17, 18, 19, 20, 21, 22, 23, 24, 25, 26, 27, 28, 29, 30, 31, 32, 33,\n",
       "       34, 35, 36, 37, 38, 39, 40])"
      ]
     },
     "execution_count": 8,
     "metadata": {},
     "output_type": "execute_result"
    }
   ],
   "source": [
    "X_test = tr[l1]\n",
    "y_test = tr[[\"prognosis\"]]\n",
    "np.ravel(y_test)"
   ]
  },
  {
   "cell_type": "code",
   "execution_count": 9,
   "id": "21a6ad4f-923e-4c17-b25a-6a6066fffde9",
   "metadata": {},
   "outputs": [],
   "source": [
    "def get_prediction(clf, symptoms):\n",
    "    l2 = [1 if symptom in symptoms else 0 for symptom in l1]\n",
    "    prediction = clf.predict([l2])[0]\n",
    "    accuracy = accuracy_score(y_test, clf.predict(X_test)) * 100\n",
    "    result = disease[prediction] if prediction < len(disease) else \"Not Found\"\n",
    "    return f\"{result} (Accuracy : {accuracy:.2f}%)\""
   ]
  },
  {
   "cell_type": "code",
   "execution_count": 10,
   "id": "8800c29d-7bda-44ae-b98c-e9825e964dc7",
   "metadata": {},
   "outputs": [],
   "source": [
    "# Decision Tree Model\n",
    "def decision_tree(symptoms):\n",
    "    clf = tree.DecisionTreeClassifier().fit(X, y)\n",
    "    return get_prediction(clf, symptoms)"
   ]
  },
  {
   "cell_type": "code",
   "execution_count": 11,
   "id": "23e2ea43-0aa3-4378-82e0-72db9b6bc07b",
   "metadata": {},
   "outputs": [],
   "source": [
    "# Random Forest Moddel\n",
    "def random_forest(symptoms):\n",
    "    clf = RandomForestClassifier().fit(X, np.ravel(y))\n",
    "    return get_prediction(clf, symptoms)"
   ]
  },
  {
   "cell_type": "code",
   "execution_count": 12,
   "id": "19bd7875-41a0-4882-a0b2-af46a5b4262d",
   "metadata": {},
   "outputs": [],
   "source": [
    "# Logistic Regression Model\n",
    "def logistic_regression(symptoms):\n",
    "    clf = LogisticRegression(max_iter=200).fit(X, np.ravel(y))\n",
    "    return get_prediction(clf, symptoms)"
   ]
  },
  {
   "cell_type": "code",
   "execution_count": 13,
   "id": "2505642f-2282-47a9-96ea-090684f6054a",
   "metadata": {},
   "outputs": [],
   "source": [
    "def linear_regression(symptoms):\n",
    "    # Train the model with Linear Regression\n",
    "    clf = LinearRegression().fit(X, np.ravel(y))\n",
    "\n",
    "    # Predict a continuous value and round to the nearest integer to get a class\n",
    "    prediction = np.round(clf.predict([get_symptom_vector(symptoms)])).astype(int)[0]\n",
    "\n",
    "    accuracy = accuracy_score(y_test, np.round(clf.predict(X_test)).astype(int)) * 100\n",
    "    result = disease[prediction] if prediction < len(disease) else \"Not Found\"\n",
    "    return f\"{result} (Accuracy : {accuracy:.2f}%)\""
   ]
  },
  {
   "cell_type": "code",
   "execution_count": 14,
   "id": "90c03738-de65-495a-b03c-549d1fe1811c",
   "metadata": {},
   "outputs": [],
   "source": [
    "def get_symptom_vector(symptoms):\n",
    "    \"\"\"Generate the symptom binary vector based on the input symptoms.\"\"\"\n",
    "    return [1 if symptom in symptoms else 0 for symptom in l1]"
   ]
  },
  {
   "cell_type": "code",
   "execution_count": 15,
   "id": "1fff26e5-4b1e-49c3-acd3-c1a08eb1630f",
   "metadata": {},
   "outputs": [],
   "source": [
    "# The Main Function \n",
    "def main():\n",
    "    print(\"Welcome to the Disease Predictor!\")\n",
    "    name = input(\"Enter the patient name: \")\n",
    "\n",
    "    symptoms = []\n",
    "    print(\"Enter the symptoms (type 'done' when finished):\")\n",
    "    while True:\n",
    "        symptom = input(\"Symptom: \").strip()\n",
    "        if symptom == 'done':\n",
    "            break\n",
    "        if symptom in l1:\n",
    "            symptoms.append(symptom)\n",
    "        else:\n",
    "            print(f\"Symptom '{symptom}' is not recognized. Try again.\")\n",
    "\n",
    "    if not symptoms:\n",
    "        print(\"No symptoms were entered. Exiting.\")\n",
    "        return\n",
    "    def model():\n",
    "        print(\"\\nSelect the model to predict the disease:\")\n",
    "        print(\"1. Decision Tree\")\n",
    "        print(\"2. Random Forest\")\n",
    "        print(\"3. Logistic Regression\")\n",
    "        print(\"4. Linear Regression\")\n",
    "        choice = input(\"Enter choice (1/2/3/4): \").strip()\n",
    "    \n",
    "        if choice == '1':\n",
    "            result = decision_tree(symptoms)\n",
    "        elif choice == '2':\n",
    "            result = random_forest(symptoms)\n",
    "        elif choice == '3':\n",
    "            result = logistic_regression(symptoms)\n",
    "        elif choice == '4':\n",
    "            result = linear_regression(symptoms)\n",
    "        else:\n",
    "            print(\"Invalid choice. Exiting.\")\n",
    "            return\n",
    "        print(f\"\\nPrediction for {name}: {result}\\n\")\n",
    "\n",
    "    model()\n",
    "    while True:\n",
    "        num = int(input(\"Need to Continue with next Model?(1 to continue)\"))\n",
    "        if num == 1:\n",
    "            model()\n",
    "        else:\n",
    "            break\n",
    "        \n",
    "    print(\"Do you want to reset and try again? (yes/no)\")\n",
    "    reset_choice = input().strip().lower()\n",
    "    if reset_choice == 'yes':\n",
    "        main()\n",
    "    else:\n",
    "        print(\"Thank you for using the Disease Predictor!\")\n",
    "        return "
   ]
  },
  {
   "cell_type": "code",
   "execution_count": 16,
   "id": "20423451-4e95-44ae-b9f9-a5c6f280236d",
   "metadata": {},
   "outputs": [
    {
     "name": "stdout",
     "output_type": "stream",
     "text": [
      "Welcome to the Disease Predictor!\n"
     ]
    },
    {
     "name": "stdout",
     "output_type": "stream",
     "text": [
      "Enter the patient name:  sri\n"
     ]
    },
    {
     "name": "stdout",
     "output_type": "stream",
     "text": [
      "Enter the symptoms (type 'done' when finished):\n"
     ]
    },
    {
     "name": "stdout",
     "output_type": "stream",
     "text": [
      "Symptom:  blister\n",
      "Symptom:  done\n"
     ]
    },
    {
     "name": "stdout",
     "output_type": "stream",
     "text": [
      "\n",
      "Select the model to predict the disease:\n",
      "1. Decision Tree\n",
      "2. Random Forest\n",
      "3. Logistic Regression\n",
      "4. Linear Regression\n"
     ]
    },
    {
     "name": "stdout",
     "output_type": "stream",
     "text": [
      "Enter choice (1/2/3/4):  1\n"
     ]
    },
    {
     "name": "stderr",
     "output_type": "stream",
     "text": [
      "/home/jovyan/.local/lib/python3.10/site-packages/sklearn/base.py:493: UserWarning: X does not have valid feature names, but DecisionTreeClassifier was fitted with feature names\n",
      "  warnings.warn(\n"
     ]
    },
    {
     "name": "stdout",
     "output_type": "stream",
     "text": [
      "\n",
      "Prediction for sri: Drug Reaction (Accuracy : 95.12%)\n",
      "\n"
     ]
    },
    {
     "name": "stdout",
     "output_type": "stream",
     "text": [
      "Need to Continue with next Model?(1 to continue) 1\n"
     ]
    },
    {
     "name": "stdout",
     "output_type": "stream",
     "text": [
      "\n",
      "Select the model to predict the disease:\n",
      "1. Decision Tree\n",
      "2. Random Forest\n",
      "3. Logistic Regression\n",
      "4. Linear Regression\n"
     ]
    },
    {
     "name": "stdout",
     "output_type": "stream",
     "text": [
      "Enter choice (1/2/3/4):  2\n"
     ]
    },
    {
     "name": "stderr",
     "output_type": "stream",
     "text": [
      "/home/jovyan/.local/lib/python3.10/site-packages/sklearn/base.py:493: UserWarning: X does not have valid feature names, but RandomForestClassifier was fitted with feature names\n",
      "  warnings.warn(\n"
     ]
    },
    {
     "name": "stdout",
     "output_type": "stream",
     "text": [
      "\n",
      "Prediction for sri: Impetigo (Accuracy : 95.12%)\n",
      "\n"
     ]
    },
    {
     "name": "stdout",
     "output_type": "stream",
     "text": [
      "Need to Continue with next Model?(1 to continue) 1\n"
     ]
    },
    {
     "name": "stdout",
     "output_type": "stream",
     "text": [
      "\n",
      "Select the model to predict the disease:\n",
      "1. Decision Tree\n",
      "2. Random Forest\n",
      "3. Logistic Regression\n",
      "4. Linear Regression\n"
     ]
    },
    {
     "name": "stdout",
     "output_type": "stream",
     "text": [
      "Enter choice (1/2/3/4):  3\n"
     ]
    },
    {
     "name": "stderr",
     "output_type": "stream",
     "text": [
      "/home/jovyan/.local/lib/python3.10/site-packages/sklearn/base.py:493: UserWarning: X does not have valid feature names, but LogisticRegression was fitted with feature names\n",
      "  warnings.warn(\n"
     ]
    },
    {
     "name": "stdout",
     "output_type": "stream",
     "text": [
      "\n",
      "Prediction for sri: Drug Reaction (Accuracy : 95.12%)\n",
      "\n"
     ]
    },
    {
     "name": "stdout",
     "output_type": "stream",
     "text": [
      "Need to Continue with next Model?(1 to continue) 1\n"
     ]
    },
    {
     "name": "stdout",
     "output_type": "stream",
     "text": [
      "\n",
      "Select the model to predict the disease:\n",
      "1. Decision Tree\n",
      "2. Random Forest\n",
      "3. Logistic Regression\n",
      "4. Linear Regression\n"
     ]
    },
    {
     "name": "stdout",
     "output_type": "stream",
     "text": [
      "Enter choice (1/2/3/4):  4\n"
     ]
    },
    {
     "name": "stderr",
     "output_type": "stream",
     "text": [
      "/home/jovyan/.local/lib/python3.10/site-packages/sklearn/base.py:493: UserWarning: X does not have valid feature names, but LinearRegression was fitted with feature names\n",
      "  warnings.warn(\n"
     ]
    },
    {
     "name": "stdout",
     "output_type": "stream",
     "text": [
      "\n",
      "Prediction for sri: hepatitis A (Accuracy : 46.34%)\n",
      "\n"
     ]
    },
    {
     "name": "stdout",
     "output_type": "stream",
     "text": [
      "Need to Continue with next Model?(1 to continue) 0\n"
     ]
    },
    {
     "name": "stdout",
     "output_type": "stream",
     "text": [
      "Do you want to reset and try again? (yes/no)\n"
     ]
    },
    {
     "name": "stdout",
     "output_type": "stream",
     "text": [
      " yes\n"
     ]
    },
    {
     "name": "stdout",
     "output_type": "stream",
     "text": [
      "Welcome to the Disease Predictor!\n"
     ]
    },
    {
     "name": "stdout",
     "output_type": "stream",
     "text": [
      "Enter the patient name:  dina\n"
     ]
    },
    {
     "name": "stdout",
     "output_type": "stream",
     "text": [
      "Enter the symptoms (type 'done' when finished):\n"
     ]
    },
    {
     "name": "stdout",
     "output_type": "stream",
     "text": [
      "Symptom:  blister\n",
      "Symptom:  done\n"
     ]
    },
    {
     "name": "stdout",
     "output_type": "stream",
     "text": [
      "\n",
      "Select the model to predict the disease:\n",
      "1. Decision Tree\n",
      "2. Random Forest\n",
      "3. Logistic Regression\n",
      "4. Linear Regression\n"
     ]
    },
    {
     "name": "stdout",
     "output_type": "stream",
     "text": [
      "Enter choice (1/2/3/4):  1\n"
     ]
    },
    {
     "name": "stderr",
     "output_type": "stream",
     "text": [
      "/home/jovyan/.local/lib/python3.10/site-packages/sklearn/base.py:493: UserWarning: X does not have valid feature names, but DecisionTreeClassifier was fitted with feature names\n",
      "  warnings.warn(\n"
     ]
    },
    {
     "name": "stdout",
     "output_type": "stream",
     "text": [
      "\n",
      "Prediction for dina: Impetigo (Accuracy : 95.12%)\n",
      "\n"
     ]
    },
    {
     "name": "stdout",
     "output_type": "stream",
     "text": [
      "Need to Continue with next Model?(1 to continue) 04\n"
     ]
    },
    {
     "name": "stdout",
     "output_type": "stream",
     "text": [
      "Do you want to reset and try again? (yes/no)\n"
     ]
    },
    {
     "name": "stdout",
     "output_type": "stream",
     "text": [
      " no\n"
     ]
    },
    {
     "name": "stdout",
     "output_type": "stream",
     "text": [
      "Thank you for using the Disease Predictor!\n"
     ]
    }
   ],
   "source": [
    "main()"
   ]
  }
 ],
 "metadata": {
  "kernelspec": {
   "display_name": "base",
   "language": "python",
   "name": "python3"
  },
  "language_info": {
   "codemirror_mode": {
    "name": "ipython",
    "version": 3
   },
   "file_extension": ".py",
   "mimetype": "text/x-python",
   "name": "python",
   "nbconvert_exporter": "python",
   "pygments_lexer": "ipython3",
   "version": "3.11.5"
  }
 },
 "nbformat": 4,
 "nbformat_minor": 5
}
